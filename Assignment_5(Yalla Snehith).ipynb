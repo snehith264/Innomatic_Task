{
 "cells": [
  {
   "cell_type": "markdown",
   "id": "30871e9d",
   "metadata": {},
   "source": [
    "# Programming Task - 5 (For Advance Python Programmers)"
   ]
  },
  {
   "cell_type": "markdown",
   "id": "b46b2ce9",
   "metadata": {},
   "source": [
    "# Q1)Subsets"
   ]
  },
  {
   "cell_type": "code",
   "execution_count": null,
   "id": "25128ef5",
   "metadata": {},
   "outputs": [],
   "source": [
    "class Solution:\n",
    "    def subsets(self, nums: List[int]) -> List[List[int]]:\n",
    "        n=len(nums)\n",
    "        ans=[]\n",
    "        def solve(idx,lst):\n",
    "            if idx>=n:\n",
    "                ans.append(lst)\n",
    "                return \n",
    "            solve(idx+1,lst)                 \n",
    "            solve(idx+1,lst+[nums[idx]])        \n",
    "        solve(0,[])\n",
    "        return ans"
   ]
  },
  {
   "cell_type": "markdown",
   "id": "d8d1b9b9",
   "metadata": {},
   "source": [
    "# Q2) Hamming Distance"
   ]
  },
  {
   "cell_type": "code",
   "execution_count": null,
   "id": "bae0301a",
   "metadata": {},
   "outputs": [],
   "source": [
    "class Solution:\n",
    "    def hammingDistance(self, x: int, y: int) -> int:\n",
    "        dif = 0\n",
    "        small, big = (x, y) if x <= y else (y, x)\n",
    "        x_bin = bin(small)[2:]\n",
    "        y_bin = bin(big)[2:]\n",
    "        x_bin = \"0\" * (len(y_bin) - len(x_bin)) + x_bin\n",
    "        for i, el in enumerate(x_bin):\n",
    "            if el != y_bin[i]:\n",
    "                dif += 1\n",
    "        return dif"
   ]
  },
  {
   "cell_type": "markdown",
   "id": "db36751e",
   "metadata": {},
   "source": [
    "# Q3)Single Number II"
   ]
  },
  {
   "cell_type": "code",
   "execution_count": null,
   "id": "b2da0601",
   "metadata": {},
   "outputs": [],
   "source": [
    "class Solution(object):\n",
    "    def singleNumber(self, nums):\n",
    "        freqMap = {}\n",
    "        for num in nums:\n",
    "            if num in freqMap:\n",
    "                freqMap[num] += 1\n",
    "            else:\n",
    "                freqMap[num] = 1\n",
    "        for num in nums:\n",
    "            if freqMap[num] == 1:\n",
    "                break\n",
    "        return num\n",
    "        "
   ]
  }
 ],
 "metadata": {
  "kernelspec": {
   "display_name": "Python 3 (ipykernel)",
   "language": "python",
   "name": "python3"
  },
  "language_info": {
   "codemirror_mode": {
    "name": "ipython",
    "version": 3
   },
   "file_extension": ".py",
   "mimetype": "text/x-python",
   "name": "python",
   "nbconvert_exporter": "python",
   "pygments_lexer": "ipython3",
   "version": "3.9.13"
  }
 },
 "nbformat": 4,
 "nbformat_minor": 5
}
