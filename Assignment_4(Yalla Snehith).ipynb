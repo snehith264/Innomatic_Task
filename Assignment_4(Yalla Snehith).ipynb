{
 "cells": [
  {
   "cell_type": "markdown",
   "id": "d55ad1f1",
   "metadata": {},
   "source": [
    "# Programming Task - 4 (For Advanced Python Programmers)"
   ]
  },
  {
   "cell_type": "markdown",
   "id": "eeaab4cf",
   "metadata": {},
   "source": [
    "# Q1)Single Number"
   ]
  },
  {
   "cell_type": "code",
   "execution_count": null,
   "id": "987c88fa",
   "metadata": {},
   "outputs": [],
   "source": [
    "class Solution:\n",
    "    def singleNumber(self, nums: List[int]) -> int:\n",
    "        not_exist = 0\n",
    "        exist = []\n",
    "        for index, num in enumerate(nums):\n",
    "            if num in nums[index+1:] or num in exist:\n",
    "                exist.append(num)\n",
    "            else:\n",
    "                not_exist = num\n",
    "        return not_exist"
   ]
  },
  {
   "cell_type": "markdown",
   "id": "621ea77d",
   "metadata": {},
   "source": [
    "# Q2)Sort Integers by The Number of 1 Bits"
   ]
  },
  {
   "cell_type": "code",
   "execution_count": null,
   "id": "dc5dbc1d",
   "metadata": {},
   "outputs": [],
   "source": [
    "class Solution:\n",
    "    def sortByBits(self, arr: List[int]) -> List[int]:\n",
    "        ll = []\n",
    "        for num in arr:\n",
    "            ll.append((sum([1 for i in bin(num)[2:] if i == '1']), num))\n",
    "        return [j for i, j in sorted(ll)]"
   ]
  },
  {
   "cell_type": "markdown",
   "id": "23b2b8e0",
   "metadata": {},
   "source": [
    "# Q3)Single Number III"
   ]
  },
  {
   "cell_type": "code",
   "execution_count": null,
   "id": "f599532f",
   "metadata": {},
   "outputs": [],
   "source": [
    "class Solution:\n",
    "    def singleNumber(self, nums: List[int]) -> List[int]:\n",
    "        dict = {}\n",
    "        list = []\n",
    "        for i in range(len(nums)):\n",
    "            if nums[i] not in dict:\n",
    "                dict[nums[i]] = 1\n",
    "            else:\n",
    "                dict[nums[i]] = dict[nums[i]] + 1\n",
    "        for i in dict:\n",
    "            if dict[i] == 1:\n",
    "                list.append(i)\n",
    "        return list"
   ]
  },
  {
   "cell_type": "markdown",
   "id": "13417680",
   "metadata": {},
   "source": [
    "# Q4)Subsets"
   ]
  },
  {
   "cell_type": "code",
   "execution_count": null,
   "id": "32ca0d3b",
   "metadata": {},
   "outputs": [],
   "source": [
    "class Solution:\n",
    "    def subsets(self, nums: List[int]) -> List[List[int]]:\n",
    "        n=len(nums)\n",
    "        ans=[]\n",
    "        def solve(idx,lst):\n",
    "            if idx>=n:\n",
    "                ans.append(lst)\n",
    "                return \n",
    "            solve(idx+1,lst)                    \n",
    "            solve(idx+1,lst+[nums[idx]])        \n",
    "        solve(0,[])\n",
    "        return ans"
   ]
  }
 ],
 "metadata": {
  "kernelspec": {
   "display_name": "Python 3 (ipykernel)",
   "language": "python",
   "name": "python3"
  },
  "language_info": {
   "codemirror_mode": {
    "name": "ipython",
    "version": 3
   },
   "file_extension": ".py",
   "mimetype": "text/x-python",
   "name": "python",
   "nbconvert_exporter": "python",
   "pygments_lexer": "ipython3",
   "version": "3.9.13"
  }
 },
 "nbformat": 4,
 "nbformat_minor": 5
}
