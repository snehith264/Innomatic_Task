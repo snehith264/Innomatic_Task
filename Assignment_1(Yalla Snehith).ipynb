{
 "cells": [
  {
   "cell_type": "markdown",
   "id": "83296326",
   "metadata": {},
   "source": [
    "# Programming Task - 1 (For Advance Python Programmers)"
   ]
  },
  {
   "cell_type": "markdown",
   "id": "84f56653",
   "metadata": {},
   "source": [
    "# Q1)Running Sum of 1d Array"
   ]
  },
  {
   "cell_type": "code",
   "execution_count": 6,
   "id": "a5ceb1b4",
   "metadata": {},
   "outputs": [],
   "source": [
    "def runningSum(nums):\n",
    "\n",
    "    for i in range(1, len(nums)):\n",
    "        nums[i] += nums[i-1]\n",
    "\n",
    "    return nums"
   ]
  },
  {
   "cell_type": "markdown",
   "id": "10d994fa",
   "metadata": {},
   "source": [
    "# Q2)Shuffle the Array"
   ]
  },
  {
   "cell_type": "code",
   "execution_count": 7,
   "id": "b0794e8e",
   "metadata": {},
   "outputs": [],
   "source": [
    "def shuffle(nums, n):\n",
    "    list = []\n",
    "    for i in range(n):\n",
    "        list.append(nums[i])\n",
    "        list.append(nums[n+i])\n",
    "    return list"
   ]
  },
  {
   "cell_type": "markdown",
   "id": "724b652a",
   "metadata": {},
   "source": [
    "# Q3)Kids With the Greatest Number of Candies"
   ]
  },
  {
   "cell_type": "code",
   "execution_count": 8,
   "id": "4e4b11bb",
   "metadata": {},
   "outputs": [],
   "source": [
    "\n",
    "def kidsWithCandies(candies, extraCandies):\n",
    "    maxCandies = max(candies)\n",
    "\n",
    "    return [(candy + extraCandies) >= maxCandies for candy in candies]\n"
   ]
  }
 ],
 "metadata": {
  "kernelspec": {
   "display_name": "Python 3 (ipykernel)",
   "language": "python",
   "name": "python3"
  },
  "language_info": {
   "codemirror_mode": {
    "name": "ipython",
    "version": 3
   },
   "file_extension": ".py",
   "mimetype": "text/x-python",
   "name": "python",
   "nbconvert_exporter": "python",
   "pygments_lexer": "ipython3",
   "version": "3.9.13"
  }
 },
 "nbformat": 4,
 "nbformat_minor": 5
}
