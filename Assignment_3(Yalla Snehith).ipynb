{
 "cells": [
  {
   "cell_type": "markdown",
   "id": "e29ef43e",
   "metadata": {},
   "source": [
    "# Programming Task - 3 (For Advance Python Programers)"
   ]
  },
  {
   "cell_type": "markdown",
   "id": "44df14e4",
   "metadata": {},
   "source": [
    "# Q1)Maximum Product of Two Elements in an Array"
   ]
  },
  {
   "cell_type": "code",
   "execution_count": null,
   "id": "93b6a336",
   "metadata": {},
   "outputs": [],
   "source": [
    "class Solution:\n",
    "    def maxProduct(self, nums: List[int]) -> int:\n",
    "        a = max(nums)\n",
    "        nums.remove(a)\n",
    "        b = max(nums)\n",
    "        return (a-1) * (b-1)"
   ]
  },
  {
   "cell_type": "markdown",
   "id": "caec6c5e",
   "metadata": {},
   "source": [
    "# Q2) Count Number of Teams"
   ]
  },
  {
   "cell_type": "code",
   "execution_count": null,
   "id": "df3f9246",
   "metadata": {},
   "outputs": [],
   "source": [
    "class Solution:\n",
    "    def numTeams(self, rating: List[int]) -> int:\n",
    "        N = len(rating)\n",
    "        dp = [[0] * N for _ in range(3)]\n",
    "\n",
    "        for i in range(N):\n",
    "            dp[0][i] = 1\n",
    "        \n",
    "        for i in range(1, 3):\n",
    "            for j in range(i, N):\n",
    "                for k in range(i - 1, j):\n",
    "                    if rating[j] > rating[k]:\n",
    "                        dp[i][j] += dp[i - 1][k] \n",
    "        \n",
    "        r2 = rating[::-1]\n",
    "        dp2 = [[0] * N for _ in range(3)]\n",
    "        for i in range(N):\n",
    "            dp2[0][i] = 1\n",
    "\n",
    "        for i in range(1, 3):\n",
    "            for j in range(i, N):\n",
    "                for k in range(i - 1, j):\n",
    "                    if r2[j] > r2[k]:\n",
    "                        dp2[i][j] += dp2[i - 1][k]\n",
    "        \n",
    "\n",
    "        return sum(dp[-1]) + sum(dp2[-1])"
   ]
  },
  {
   "cell_type": "markdown",
   "id": "c0d7692e",
   "metadata": {},
   "source": [
    "# Q3) Number of Students Doing Homework at a Given Time"
   ]
  },
  {
   "cell_type": "code",
   "execution_count": null,
   "id": "0ddaa367",
   "metadata": {},
   "outputs": [],
   "source": [
    "class Solution:\n",
    "    def busyStudent(self, startTime: List[int], endTime: List[int], queryTime: int) -> int:\n",
    "        count = 0\n",
    "        for i in range(len(startTime)):\n",
    "            if startTime[i]<=queryTime<=endTime[i]:\n",
    "                count+=1\n",
    "        return count"
   ]
  },
  {
   "cell_type": "markdown",
   "id": "13a6d0bc",
   "metadata": {},
   "source": [
    "# Q4)Number of Steps to Reduce a Number to Zero"
   ]
  },
  {
   "cell_type": "code",
   "execution_count": null,
   "id": "a0a5cf6a",
   "metadata": {},
   "outputs": [],
   "source": [
    "\n",
    "class Solution:\n",
    "    def numberOfSteps(self, num: int) -> int:\n",
    "        count=0\n",
    "        while num!=0:\n",
    "            if num%2==0:\n",
    "                num=num/2\n",
    "                count+=1\n",
    "            else:\n",
    "                num=num-1\n",
    "                count+=1\n",
    "        return count"
   ]
  },
  {
   "cell_type": "markdown",
   "id": "4ec38d91",
   "metadata": {},
   "source": [
    "# Q5)Counting Bits"
   ]
  },
  {
   "cell_type": "code",
   "execution_count": null,
   "id": "351ed411",
   "metadata": {},
   "outputs": [],
   "source": [
    "class Solution:\n",
    "    def countBits(self, n: int) -> List[int]:\n",
    "        arr=[]\n",
    "        binary =[]\n",
    "\n",
    "        for i in range(n+1):\n",
    "\n",
    "            arr.append(i)\n",
    "\n",
    "\n",
    "        for i in arr:\n",
    "            b = str(bin(i))\n",
    "            binary.append(b.count(\"1\"))\n",
    "        return binary\n"
   ]
  }
 ],
 "metadata": {
  "kernelspec": {
   "display_name": "Python 3 (ipykernel)",
   "language": "python",
   "name": "python3"
  },
  "language_info": {
   "codemirror_mode": {
    "name": "ipython",
    "version": 3
   },
   "file_extension": ".py",
   "mimetype": "text/x-python",
   "name": "python",
   "nbconvert_exporter": "python",
   "pygments_lexer": "ipython3",
   "version": "3.9.13"
  }
 },
 "nbformat": 4,
 "nbformat_minor": 5
}
