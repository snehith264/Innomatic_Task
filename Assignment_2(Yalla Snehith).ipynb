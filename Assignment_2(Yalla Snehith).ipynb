{
 "cells": [
  {
   "cell_type": "markdown",
   "id": "a6c56394",
   "metadata": {},
   "source": [
    "# Programming Task - 2 (For Advance Python Programmers)"
   ]
  },
  {
   "cell_type": "markdown",
   "id": "166a9fb2",
   "metadata": {},
   "source": [
    "# Q1)Defanging an IP Address"
   ]
  },
  {
   "cell_type": "code",
   "execution_count": null,
   "id": "d54fdd58",
   "metadata": {},
   "outputs": [],
   "source": [
    "    def defangIPaddr(self, address: str) -> str:\n",
    "        return '[.]'.join(address.split('.'))"
   ]
  },
  {
   "cell_type": "markdown",
   "id": "42f310fe",
   "metadata": {},
   "source": [
    "# Q2)Find Numbers with Even Number of Digits"
   ]
  },
  {
   "cell_type": "code",
   "execution_count": null,
   "id": "e32f3ed8",
   "metadata": {},
   "outputs": [],
   "source": [
    "class Solution:\n",
    "    def findNumbers(self, nums: List[int]) -> int:\n",
    "        count=0\n",
    "        for i in range(len(nums)):\n",
    "            if len(str(nums[i]))%2==0:\n",
    "                count+=1\n",
    "        return count         "
   ]
  },
  {
   "cell_type": "markdown",
   "id": "6747b924",
   "metadata": {},
   "source": [
    "# Q3)Number of Good Pairs"
   ]
  },
  {
   "cell_type": "code",
   "execution_count": null,
   "id": "6414af95",
   "metadata": {},
   "outputs": [],
   "source": [
    "class Solution:\n",
    "    def numIdenticalPairs(self, nums: List[int]) -> int:\n",
    "        count = 0\n",
    "        for i in range(len(nums)):\n",
    "            for j in range(len(nums)):\n",
    "                if i != j:\n",
    "                    if nums[i] == nums[j]:\n",
    "                        count +=1\n",
    "        return count//2"
   ]
  },
  {
   "cell_type": "markdown",
   "id": "cb3cd9cb",
   "metadata": {},
   "source": [
    "# Q4)How Many Numbers Are Smaller Than the Current Number"
   ]
  },
  {
   "cell_type": "code",
   "execution_count": null,
   "id": "1218ea93",
   "metadata": {},
   "outputs": [],
   "source": [
    "class Solution:\n",
    "    def smallerNumbersThanCurrent(self, nums: List[int]) -> List[int]:\n",
    "        \n",
    "        result=[]\n",
    "        for i in range(len(nums)):\n",
    "            count=0\n",
    "            for j in range(len(nums)):\n",
    "                if j!=i and nums[j]<nums[i]:\n",
    "                    count=count+1\n",
    "            result.append(count)\n",
    "        return result    "
   ]
  },
  {
   "cell_type": "markdown",
   "id": "06199a71",
   "metadata": {},
   "source": [
    "# Q5)Subtract the Product and Sum of Digits of an Integer"
   ]
  },
  {
   "cell_type": "code",
   "execution_count": null,
   "id": "7ac34265",
   "metadata": {},
   "outputs": [],
   "source": [
    "class Solution:\n",
    "    def subtractProductAndSum(self, n: int) -> int:\n",
    "        arr = [int(x) for x in str(n)]\n",
    "        prod = 1\n",
    "        for y in arr:\n",
    "            prod *= y\n",
    "        summ = sum(arr)\n",
    "        return prod - summ"
   ]
  },
  {
   "cell_type": "markdown",
   "id": "c67849eb",
   "metadata": {},
   "source": [
    "# Q6)XOR Operation in an Array"
   ]
  },
  {
   "cell_type": "code",
   "execution_count": null,
   "id": "4373744c",
   "metadata": {},
   "outputs": [],
   "source": [
    "class Solution:\n",
    "    def xorOperation(self, n: int, start: int) -> int:\n",
    "        nums = [num for num in range(start, start + 2 * n, 2)]\n",
    "        temp = 0\n",
    "        for num in nums:\n",
    "            temp = num ^ temp\n",
    "        return temp"
   ]
  }
 ],
 "metadata": {
  "kernelspec": {
   "display_name": "Python 3 (ipykernel)",
   "language": "python",
   "name": "python3"
  },
  "language_info": {
   "codemirror_mode": {
    "name": "ipython",
    "version": 3
   },
   "file_extension": ".py",
   "mimetype": "text/x-python",
   "name": "python",
   "nbconvert_exporter": "python",
   "pygments_lexer": "ipython3",
   "version": "3.9.13"
  }
 },
 "nbformat": 4,
 "nbformat_minor": 5
}
